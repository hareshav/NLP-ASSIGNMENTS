{
  "nbformat": 4,
  "nbformat_minor": 0,
  "metadata": {
    "colab": {
      "provenance": []
    },
    "kernelspec": {
      "name": "python3",
      "display_name": "Python 3"
    },
    "language_info": {
      "name": "python"
    }
  },
  "cells": [
    {
      "cell_type": "markdown",
      "source": [],
      "metadata": {
        "id": "VPDg-9K85RF6"
      }
    },
    {
      "cell_type": "markdown",
      "source": [
        "#NLP ASSIGNMENT 3\n",
        "#HARESH A V\n",
        "#22AD023"
      ],
      "metadata": {
        "id": "zHDwiN7P5fGF"
      }
    },
    {
      "cell_type": "code",
      "source": [
        "import pandas as pd\n",
        "import sqlite3\n",
        "from datetime import datetime\n",
        "import calendar\n",
        "import statistics\n",
        "import os"
      ],
      "metadata": {
        "id": "DleP7kjZ4A2b"
      },
      "execution_count": 1,
      "outputs": []
    },
    {
      "cell_type": "code",
      "source": [
        "def load_from_sqlite(db_path):\n",
        "    \"\"\"\n",
        "    Load medical bill data from SQLite database.\n",
        "\n",
        "    Args:\n",
        "        db_path (str): Path to the SQLite database file\n",
        "\n",
        "    Returns:\n",
        "        pandas.DataFrame: DataFrame containing amount, month, and year\n",
        "    \"\"\"\n",
        "    if not os.path.exists(db_path):\n",
        "        raise FileNotFoundError(f\"Database file not found: {db_path}\")\n",
        "\n",
        "    conn = sqlite3.connect(db_path)\n",
        "    # Query only fetches amount, month, year - no PHI\n",
        "    query = \"\"\"\n",
        "        SELECT amount, strftime('%m', date) as month, strftime('%Y', date) as year\n",
        "        FROM medical_bills\n",
        "    \"\"\"\n",
        "    data = pd.read_sql_query(query, conn)\n",
        "    conn.close()\n",
        "\n",
        "    # Convert string columns to integers\n",
        "    data['month'] = data['month'].astype(int)\n",
        "    data['year'] = data['year'].astype(int)\n",
        "\n",
        "    return data"
      ],
      "metadata": {
        "id": "ohT2bN5p4LXx"
      },
      "execution_count": 2,
      "outputs": []
    },
    {
      "cell_type": "code",
      "source": [
        "def load_from_dataframe(df):\n",
        "    \"\"\"\n",
        "    Prepare a pandas DataFrame for medical bill analysis.\n",
        "\n",
        "    Args:\n",
        "        df (pandas.DataFrame): DataFrame with 'amount' and 'date' columns\n",
        "\n",
        "    Returns:\n",
        "        pandas.DataFrame: DataFrame with added 'month' and 'year' columns\n",
        "    \"\"\"\n",
        "    required_columns = ['amount', 'date']\n",
        "    if not all(col in df.columns for col in required_columns):\n",
        "        raise ValueError(f\"DataFrame must contain these columns: {required_columns}\")\n",
        "\n",
        "    # Create a copy to avoid modifying the original\n",
        "    data = df.copy()\n",
        "\n",
        "    # Extract month and year if date is in datetime format\n",
        "    if pd.api.types.is_datetime64_any_dtype(data['date']):\n",
        "        data['month'] = data['date'].dt.month\n",
        "        data['year'] = data['date'].dt.year\n",
        "    else:\n",
        "        # Try to convert string date to datetime\n",
        "        try:\n",
        "            data['date'] = pd.to_datetime(data['date'])\n",
        "            data['month'] = data['date'].dt.month\n",
        "            data['year'] = data['date'].dt.year\n",
        "        except:\n",
        "            raise ValueError(\"Date column must be in a format convertible to datetime\")\n",
        "\n",
        "    return data"
      ],
      "metadata": {
        "id": "HiYSHj2B4P2Z"
      },
      "execution_count": 3,
      "outputs": []
    },
    {
      "cell_type": "code",
      "source": [
        "def compare_medical_bills(data_source):\n",
        "    \"\"\"\n",
        "    Compare current month's medical bills with historical data.\n",
        "\n",
        "    Args:\n",
        "        data_source: Either a path to SQLite DB or a pandas DataFrame containing medical bill data\n",
        "\n",
        "    Returns:\n",
        "        dict: Analysis results with comparison metrics\n",
        "    \"\"\"\n",
        "    # Get current month and year\n",
        "    current_month = datetime.now().month\n",
        "    current_year = datetime.now().year\n",
        "\n",
        "    # Load data from appropriate source\n",
        "    if isinstance(data_source, str) and data_source.endswith('.db'):\n",
        "        data = load_from_sqlite(data_source)\n",
        "    elif isinstance(data_source, pd.DataFrame):\n",
        "        data = load_from_dataframe(data_source)\n",
        "    else:\n",
        "        raise ValueError(\"Data source must be either a SQLite database path or pandas DataFrame\")\n",
        "\n",
        "    # Check if data is available\n",
        "    if data is None or len(data) == 0:\n",
        "        return {\"status\": \"No data available for analysis\"}\n",
        "\n",
        "    # Filter for current month data\n",
        "    current_month_data = data[(data['month'] == current_month) &\n",
        "                             (data['year'] == current_year)]\n",
        "\n",
        "    # Check if we have current month data\n",
        "    if len(current_month_data) == 0:\n",
        "        return {\"status\": \"No medical bill data found for the current month\"}\n",
        "\n",
        "    current_month_total = current_month_data['amount'].sum()\n",
        "\n",
        "    # Get historical data (exclude current month)\n",
        "    historical_data = data[(data['year'] < current_year) |\n",
        "                          ((data['year'] == current_year) &\n",
        "                           (data['month'] < current_month))]\n",
        "\n",
        "    # If we don't have enough historical data\n",
        "    if len(historical_data) == 0:\n",
        "        return {\n",
        "            \"status\": \"Insufficient historical data for comparison\",\n",
        "            \"current_month_total\": current_month_total,\n",
        "            \"current_month\": calendar.month_name[current_month]\n",
        "        }\n",
        "\n",
        "    # Calculate historical metrics\n",
        "    monthly_totals = historical_data.groupby(['year', 'month'])['amount'].sum().reset_index()\n",
        "    avg_monthly_total = monthly_totals['amount'].mean()\n",
        "    median_monthly_total = monthly_totals['amount'].median()\n",
        "\n",
        "    # Filter for same month in previous years\n",
        "    same_month_previous_years = historical_data[historical_data['month'] == current_month]\n",
        "    if len(same_month_previous_years) > 0:\n",
        "        same_month_avg = same_month_previous_years.groupby('year')['amount'].sum().mean()\n",
        "    else:\n",
        "        same_month_avg = None\n",
        "\n",
        "    # Calculate comparative metrics\n",
        "    pct_diff_from_avg = ((current_month_total - avg_monthly_total) / avg_monthly_total * 100) if avg_monthly_total > 0 else None\n",
        "\n",
        "    # Determine if current month is higher than usual\n",
        "    # We consider it higher if it's more than 20% above the average\n",
        "    is_higher = pct_diff_from_avg > 20 if pct_diff_from_avg is not None else None\n",
        "\n",
        "    # Return analysis without any PHI\n",
        "    result = {\n",
        "        \"status\": \"Analysis complete\",\n",
        "        \"current_month\": calendar.month_name[current_month],\n",
        "        \"current_year\": current_year,\n",
        "        \"is_higher_than_usual\": is_higher,\n",
        "        \"percent_difference_from_average\": round(pct_diff_from_avg, 2) if pct_diff_from_avg is not None else None,\n",
        "        \"current_month_total\": round(current_month_total, 2),\n",
        "        \"historical_monthly_average\": round(avg_monthly_total, 2),\n",
        "        \"historical_monthly_median\": round(median_monthly_total, 2)\n",
        "    }\n",
        "\n",
        "    # Add comparison with same month in previous years if available\n",
        "    if same_month_avg is not None:\n",
        "        result[\"same_month_previous_years_avg\"] = round(same_month_avg, 2)\n",
        "        pct_diff_from_same_month = ((current_month_total - same_month_avg) / same_month_avg * 100) if same_month_avg > 0 else None\n",
        "        result[\"percent_difference_from_same_month_avg\"] = round(pct_diff_from_same_month, 2) if pct_diff_from_same_month is not None else None\n",
        "\n",
        "    return result"
      ],
      "metadata": {
        "id": "K3dmceCT4kN2"
      },
      "execution_count": 4,
      "outputs": []
    },
    {
      "cell_type": "code",
      "execution_count": 5,
      "metadata": {
        "id": "hUCaicF73_c0"
      },
      "outputs": [],
      "source": [
        "\n",
        "def generate_bill_comparison_summary(data_source):\n",
        "    \"\"\"\n",
        "    Generate a user-friendly summary of medical bill comparison.\n",
        "\n",
        "    Args:\n",
        "        data_source: Either a path to SQLite DB or a pandas DataFrame containing medical bill data\n",
        "\n",
        "    Returns:\n",
        "        str: A human-readable summary of the medical bill analysis\n",
        "    \"\"\"\n",
        "    try:\n",
        "        analysis = compare_medical_bills(data_source)\n",
        "\n",
        "        if analysis[\"status\"] != \"Analysis complete\":\n",
        "            return analysis[\"status\"]\n",
        "\n",
        "        summary = f\"Medical Bill Analysis for {analysis['current_month']} {analysis['current_year']}:\\n\\n\"\n",
        "\n",
        "        if analysis[\"is_higher_than_usual\"] is True:\n",
        "            summary += \"Your medical bills this month are higher than usual. \"\n",
        "        elif analysis[\"is_higher_than_usual\"] is False:\n",
        "            summary += \"Your medical bills this month are within normal range. \"\n",
        "        else:\n",
        "            summary += \"I couldn't determine if your bills are higher than usual. \"\n",
        "\n",
        "        summary += f\"Your total for {analysis['current_month']} is ${analysis['current_month_total']:.2f}.\\n\\n\"\n",
        "\n",
        "        summary += f\"Historical average: ${analysis['historical_monthly_average']:.2f}\\n\"\n",
        "        summary += f\"Historical median: ${analysis['historical_monthly_median']:.2f}\\n\"\n",
        "\n",
        "        if \"percent_difference_from_average\" in analysis and analysis[\"percent_difference_from_average\"] is not None:\n",
        "            direction = \"higher\" if analysis[\"percent_difference_from_average\"] > 0 else \"lower\"\n",
        "            summary += f\"This month is {abs(analysis['percent_difference_from_average']):.1f}% {direction} than your historical average.\\n\"\n",
        "\n",
        "        if \"same_month_previous_years_avg\" in analysis:\n",
        "            summary += f\"\\nCompared to {analysis['current_month']} in previous years (${analysis['same_month_previous_years_avg']:.2f}), \"\n",
        "\n",
        "            if \"percent_difference_from_same_month_avg\" in analysis and analysis[\"percent_difference_from_same_month_avg\"] is not None:\n",
        "                direction = \"higher\" if analysis[\"percent_difference_from_same_month_avg\"] > 0 else \"lower\"\n",
        "                summary += f\"this month is {abs(analysis['percent_difference_from_same_month_avg']):.1f}% {direction}.\"\n",
        "\n",
        "        return summary\n",
        "\n",
        "    except Exception as e:\n",
        "        return f\"An error occurred while analyzing your medical bills: {str(e)}\"\n",
        "\n"
      ]
    },
    {
      "cell_type": "code",
      "source": [
        "# 1. With SQLite database:\n",
        "summary = generate_bill_comparison_summary('medical_bills.db')\n",
        "print(summary)\n",
        "\n"
      ],
      "metadata": {
        "colab": {
          "base_uri": "https://localhost:8080/"
        },
        "id": "8iZBlRl-4npT",
        "outputId": "cd36a739-8bcc-4018-fd1a-b0d4e13534f0"
      },
      "execution_count": 6,
      "outputs": [
        {
          "output_type": "stream",
          "name": "stdout",
          "text": [
            "An error occurred while analyzing your medical bills: Database file not found: medical_bills.db\n"
          ]
        }
      ]
    },
    {
      "cell_type": "code",
      "source": [
        "# 2. With pandas DataFrame:\n",
        "import pandas as pd\n",
        "from datetime import datetime, timedelta\n",
        "\n",
        "# # Create sample data (in real application, this would be loaded from a database)\n",
        "dates = [datetime.now() - timedelta(days=30*i) for i in range(24)]\n",
        "amounts = [100 + (i % 12) * 10 for i in range(24)]\n",
        "df = pd.DataFrame({'date': dates, 'amount': amounts})\n",
        "summary = generate_bill_comparison_summary(df)\n",
        "print(summary)"
      ],
      "metadata": {
        "colab": {
          "base_uri": "https://localhost:8080/"
        },
        "id": "OJ7ZP7Rf4u9n",
        "outputId": "e95bde51-11ad-4382-ffec-74024a6edcd6"
      },
      "execution_count": 7,
      "outputs": [
        {
          "output_type": "stream",
          "name": "stdout",
          "text": [
            "Medical Bill Analysis for April 2025:\n",
            "\n",
            "I couldn't determine if your bills are higher than usual. Your total for April is $100.00.\n",
            "\n",
            "Historical average: $164.55\n",
            "Historical median: $155.00\n",
            "This month is 39.2% lower than your historical average.\n",
            "\n",
            "Compared to April in previous years ($100.00), this month is 0.0% lower.\n"
          ]
        }
      ]
    },
    {
      "cell_type": "code",
      "source": [],
      "metadata": {
        "id": "OGgwFfsP47-1"
      },
      "execution_count": null,
      "outputs": []
    }
  ]
}